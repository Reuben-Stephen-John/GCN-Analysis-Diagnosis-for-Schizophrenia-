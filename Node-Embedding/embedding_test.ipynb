{
 "cells": [
  {
   "cell_type": "code",
   "execution_count": 1,
   "metadata": {},
   "outputs": [],
   "source": [
    "import numpy as np\n",
    "import networkx as nx\n",
    "from karateclub import NetMF\n",
    "import torch\n",
    "from torch_geometric.data import Data"
   ]
  },
  {
   "cell_type": "code",
   "execution_count": 2,
   "metadata": {},
   "outputs": [],
   "source": [
    "fc_matrices=np.load('../source_data/fc/fc_matrices.npy')"
   ]
  },
  {
   "cell_type": "code",
   "execution_count": 3,
   "metadata": {},
   "outputs": [],
   "source": [
    "connectivity_matrix=fc_matrices[0]"
   ]
  },
  {
   "cell_type": "code",
   "execution_count": 4,
   "metadata": {},
   "outputs": [],
   "source": [
    "threshold=0.5\n",
    "adjacency_matrix = (connectivity_matrix > threshold).astype(float)\n",
    "graph = nx.from_numpy_matrix(adjacency_matrix)"
   ]
  },
  {
   "cell_type": "code",
   "execution_count": 5,
   "metadata": {},
   "outputs": [],
   "source": [
    "# NetMF embedding logic using karate club module\n",
    "def netmf_embedding(graph, dimensions=16, order=2):\n",
    "    model = NetMF(dimensions=dimensions, order=order,seed=21)\n",
    "    model.fit(graph)\n",
    "    return model.get_embedding()"
   ]
  },
  {
   "cell_type": "code",
   "execution_count": 6,
   "metadata": {},
   "outputs": [],
   "source": [
    "netmf_embeddings = netmf_embedding(graph, dimensions=32, order=2)\n"
   ]
  },
  {
   "cell_type": "code",
   "execution_count": 20,
   "metadata": {},
   "outputs": [
    {
     "data": {
      "text/plain": [
       "array([[ 3.70348059e-02,  3.25251758e-01,  4.82475817e-01, ...,\n",
       "         3.36130708e-03,  7.19951093e-03,  2.98769772e-03],\n",
       "       [ 4.29261923e-02,  1.59452245e-01,  4.05669242e-01, ...,\n",
       "         4.52171545e-03,  5.86961396e-03, -2.87413597e-04],\n",
       "       [ 3.45632210e-02,  2.64867753e-01,  8.20153505e-02, ...,\n",
       "         3.02554481e-03, -2.19310343e-04, -2.08318233e-04],\n",
       "       ...,\n",
       "       [ 1.52577541e-03,  1.60797779e-02,  5.31985285e-03, ...,\n",
       "         1.11983716e-02, -1.41948927e-04, -4.45048511e-03],\n",
       "       [ 1.89018399e-02,  2.82678068e-01,  4.68829989e-01, ...,\n",
       "        -2.33941898e-03, -5.11053205e-03, -2.14309990e-03],\n",
       "       [ 9.52267870e-02,  8.66663456e-02,  6.87404931e-01, ...,\n",
       "         1.03347935e-04,  1.46367773e-03, -2.28907168e-03]], dtype=float32)"
      ]
     },
     "execution_count": 20,
     "metadata": {},
     "output_type": "execute_result"
    }
   ],
   "source": [
    "netmf_embeddings"
   ]
  },
  {
   "cell_type": "code",
   "execution_count": 7,
   "metadata": {},
   "outputs": [
    {
     "name": "stdout",
     "output_type": "stream",
     "text": [
      "(39, 32)\n"
     ]
    }
   ],
   "source": [
    "print(netmf_embeddings.shape)"
   ]
  },
  {
   "cell_type": "code",
   "execution_count": 8,
   "metadata": {},
   "outputs": [],
   "source": [
    "# Extract node features from the embeddings\n",
    "node_features = torch.tensor(netmf_embeddings, dtype=torch.float32)"
   ]
  },
  {
   "cell_type": "code",
   "execution_count": 19,
   "metadata": {},
   "outputs": [
    {
     "data": {
      "text/plain": [
       "torch.Size([39, 32])"
      ]
     },
     "execution_count": 19,
     "metadata": {},
     "output_type": "execute_result"
    }
   ],
   "source": [
    "node_features.shape"
   ]
  },
  {
   "cell_type": "code",
   "execution_count": 10,
   "metadata": {},
   "outputs": [
    {
     "data": {
      "text/plain": [
       "array([[0., 1., 0., ..., 0., 1., 0.],\n",
       "       [1., 0., 0., ..., 0., 0., 1.],\n",
       "       [0., 0., 0., ..., 1., 0., 0.],\n",
       "       ...,\n",
       "       [0., 0., 1., ..., 0., 0., 0.],\n",
       "       [1., 0., 0., ..., 0., 0., 0.],\n",
       "       [0., 1., 0., ..., 0., 0., 0.]])"
      ]
     },
     "execution_count": 10,
     "metadata": {},
     "output_type": "execute_result"
    }
   ],
   "source": [
    "adjacency_matrix"
   ]
  },
  {
   "cell_type": "code",
   "execution_count": 13,
   "metadata": {},
   "outputs": [],
   "source": [
    "edge_index = torch.tensor(np.array(adjacency_matrix.nonzero()), dtype=torch.long)"
   ]
  },
  {
   "cell_type": "code",
   "execution_count": 14,
   "metadata": {},
   "outputs": [
    {
     "data": {
      "text/plain": [
       "tensor([[ 0,  0,  0,  0,  1,  1,  1,  1,  1,  1,  1,  2,  2,  2,  2,  2,  2,  2,\n",
       "          2,  4,  4,  4,  4,  4,  4,  5,  5,  5,  5,  5,  5,  5,  6,  8,  8,  8,\n",
       "          8,  8,  8,  9,  9,  9,  9,  9,  9, 10, 10, 10, 10, 10, 10, 10, 10, 10,\n",
       "         10, 11, 11, 11, 11, 13, 13, 13, 13, 13, 13, 13, 13, 13, 13, 13, 14, 14,\n",
       "         14, 15, 15, 15, 15, 15, 15, 15, 15, 15, 15, 15, 15, 16, 17, 17, 18, 18,\n",
       "         18, 18, 19, 19, 19, 19, 21, 21, 21, 22, 22, 22, 22, 22, 22, 22, 22, 22,\n",
       "         22, 22, 22, 22, 23, 23, 23, 23, 23, 23, 23, 24, 24, 24, 24, 24, 24, 24,\n",
       "         24, 24, 24, 25, 25, 25, 25, 25, 25, 25, 25, 25, 25, 25, 26, 26, 26, 26,\n",
       "         26, 26, 26, 26, 26, 26, 28, 28, 28, 28, 28, 28, 28, 28, 28, 28, 28, 29,\n",
       "         29, 29, 29, 30, 30, 30, 30, 30, 31, 31, 31, 31, 31, 31, 31, 32, 32, 32,\n",
       "         32, 32, 32, 32, 32, 32, 32, 32, 32, 32, 32, 33, 33, 33, 33, 34, 34, 34,\n",
       "         34, 34, 34, 34, 34, 34, 34, 34, 35, 35, 35, 36, 36, 36, 36, 36, 36, 37,\n",
       "         38, 38, 38, 38],\n",
       "        [ 1,  8, 15, 37,  0,  4,  8,  9, 26, 31, 38,  4, 13, 15, 18, 25, 26, 32,\n",
       "         36,  1,  2,  8, 13, 26, 31, 10, 22, 24, 25, 28, 34, 36, 21,  0,  1,  4,\n",
       "         29, 33, 38,  1, 15, 26, 30, 31, 38,  5, 13, 15, 22, 23, 24, 25, 28, 32,\n",
       "         34, 14, 19, 33, 35,  2,  4, 10, 22, 24, 26, 28, 31, 32, 34, 36, 11, 19,\n",
       "         35,  0,  2,  9, 10, 22, 24, 25, 26, 28, 29, 32, 34, 28, 18, 33,  2, 17,\n",
       "         32, 33, 11, 14, 21, 35,  6, 19, 30,  5, 10, 13, 15, 23, 24, 25, 26, 28,\n",
       "         31, 32, 34, 36, 10, 22, 24, 25, 28, 32, 34,  5, 10, 13, 15, 22, 23, 25,\n",
       "         28, 32, 34,  2,  5, 10, 15, 22, 23, 24, 28, 29, 32, 34,  1,  2,  4,  9,\n",
       "         13, 15, 22, 30, 31, 32,  5, 10, 13, 15, 16, 22, 23, 24, 25, 32, 34,  8,\n",
       "         15, 25, 32,  9, 21, 26, 31, 38,  1,  4,  9, 13, 22, 26, 30,  2, 10, 13,\n",
       "         15, 18, 22, 23, 24, 25, 26, 28, 29, 34, 36,  8, 11, 17, 18,  5, 10, 13,\n",
       "         15, 22, 23, 24, 25, 28, 32, 36, 11, 14, 19,  2,  5, 13, 22, 32, 34,  0,\n",
       "          1,  8,  9, 30]])"
      ]
     },
     "execution_count": 14,
     "metadata": {},
     "output_type": "execute_result"
    }
   ],
   "source": [
    "edge_index"
   ]
  },
  {
   "cell_type": "code",
   "execution_count": 15,
   "metadata": {},
   "outputs": [],
   "source": [
    "edge_index = torch.tensor(np.array(np.where(adjacency_matrix != 0)), dtype=torch.long)"
   ]
  },
  {
   "cell_type": "code",
   "execution_count": 16,
   "metadata": {},
   "outputs": [
    {
     "data": {
      "text/plain": [
       "tensor([[ 0,  0,  0,  0,  1,  1,  1,  1,  1,  1,  1,  2,  2,  2,  2,  2,  2,  2,\n",
       "          2,  4,  4,  4,  4,  4,  4,  5,  5,  5,  5,  5,  5,  5,  6,  8,  8,  8,\n",
       "          8,  8,  8,  9,  9,  9,  9,  9,  9, 10, 10, 10, 10, 10, 10, 10, 10, 10,\n",
       "         10, 11, 11, 11, 11, 13, 13, 13, 13, 13, 13, 13, 13, 13, 13, 13, 14, 14,\n",
       "         14, 15, 15, 15, 15, 15, 15, 15, 15, 15, 15, 15, 15, 16, 17, 17, 18, 18,\n",
       "         18, 18, 19, 19, 19, 19, 21, 21, 21, 22, 22, 22, 22, 22, 22, 22, 22, 22,\n",
       "         22, 22, 22, 22, 23, 23, 23, 23, 23, 23, 23, 24, 24, 24, 24, 24, 24, 24,\n",
       "         24, 24, 24, 25, 25, 25, 25, 25, 25, 25, 25, 25, 25, 25, 26, 26, 26, 26,\n",
       "         26, 26, 26, 26, 26, 26, 28, 28, 28, 28, 28, 28, 28, 28, 28, 28, 28, 29,\n",
       "         29, 29, 29, 30, 30, 30, 30, 30, 31, 31, 31, 31, 31, 31, 31, 32, 32, 32,\n",
       "         32, 32, 32, 32, 32, 32, 32, 32, 32, 32, 32, 33, 33, 33, 33, 34, 34, 34,\n",
       "         34, 34, 34, 34, 34, 34, 34, 34, 35, 35, 35, 36, 36, 36, 36, 36, 36, 37,\n",
       "         38, 38, 38, 38],\n",
       "        [ 1,  8, 15, 37,  0,  4,  8,  9, 26, 31, 38,  4, 13, 15, 18, 25, 26, 32,\n",
       "         36,  1,  2,  8, 13, 26, 31, 10, 22, 24, 25, 28, 34, 36, 21,  0,  1,  4,\n",
       "         29, 33, 38,  1, 15, 26, 30, 31, 38,  5, 13, 15, 22, 23, 24, 25, 28, 32,\n",
       "         34, 14, 19, 33, 35,  2,  4, 10, 22, 24, 26, 28, 31, 32, 34, 36, 11, 19,\n",
       "         35,  0,  2,  9, 10, 22, 24, 25, 26, 28, 29, 32, 34, 28, 18, 33,  2, 17,\n",
       "         32, 33, 11, 14, 21, 35,  6, 19, 30,  5, 10, 13, 15, 23, 24, 25, 26, 28,\n",
       "         31, 32, 34, 36, 10, 22, 24, 25, 28, 32, 34,  5, 10, 13, 15, 22, 23, 25,\n",
       "         28, 32, 34,  2,  5, 10, 15, 22, 23, 24, 28, 29, 32, 34,  1,  2,  4,  9,\n",
       "         13, 15, 22, 30, 31, 32,  5, 10, 13, 15, 16, 22, 23, 24, 25, 32, 34,  8,\n",
       "         15, 25, 32,  9, 21, 26, 31, 38,  1,  4,  9, 13, 22, 26, 30,  2, 10, 13,\n",
       "         15, 18, 22, 23, 24, 25, 26, 28, 29, 34, 36,  8, 11, 17, 18,  5, 10, 13,\n",
       "         15, 22, 23, 24, 25, 28, 32, 36, 11, 14, 19,  2,  5, 13, 22, 32, 34,  0,\n",
       "          1,  8,  9, 30]])"
      ]
     },
     "execution_count": 16,
     "metadata": {},
     "output_type": "execute_result"
    }
   ],
   "source": [
    "edge_index"
   ]
  },
  {
   "cell_type": "code",
   "execution_count": 17,
   "metadata": {},
   "outputs": [],
   "source": [
    "data = Data(x=node_features, edge_index=edge_index)"
   ]
  },
  {
   "cell_type": "code",
   "execution_count": 18,
   "metadata": {},
   "outputs": [
    {
     "name": "stdout",
     "output_type": "stream",
     "text": [
      "Data(x=[39, 32], edge_index=[2, 220])\n"
     ]
    }
   ],
   "source": [
    "print(data)"
   ]
  },
  {
   "cell_type": "code",
   "execution_count": null,
   "metadata": {},
   "outputs": [],
   "source": []
  }
 ],
 "metadata": {
  "kernelspec": {
   "display_name": "venv",
   "language": "python",
   "name": "python3"
  },
  "language_info": {
   "codemirror_mode": {
    "name": "ipython",
    "version": 3
   },
   "file_extension": ".py",
   "mimetype": "text/x-python",
   "name": "python",
   "nbconvert_exporter": "python",
   "pygments_lexer": "ipython3",
   "version": "3.10.10"
  }
 },
 "nbformat": 4,
 "nbformat_minor": 2
}
