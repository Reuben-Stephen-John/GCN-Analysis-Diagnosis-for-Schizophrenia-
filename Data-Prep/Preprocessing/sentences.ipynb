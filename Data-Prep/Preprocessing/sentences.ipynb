{
 "cells": [
  {
   "cell_type": "code",
   "execution_count": 1,
   "metadata": {},
   "outputs": [],
   "source": [
    "import os\n",
    "import matplotlib.pyplot as pit\n",
    "from nilearn.image import mean_img,load_img\n",
    "from nilearn.plotting import plot_stat_map, plot_anat, plot_img,show, plot_glass_brain\n",
    "from bids.layout import BIDSLayout\n",
    "import matplotlib.pyplot as plt\n",
    "import numpy as np\n",
    "import pandas as pd \n",
    "import nibabel as nib\n",
    "import numpy as np \n",
    "import networkx as nx\n",
    "\n",
    "%matplotlib inline"
   ]
  },
  {
   "cell_type": "code",
   "execution_count": 3,
   "metadata": {},
   "outputs": [],
   "source": [
    "fmriprep_dir='../../Full-Dataset'\n",
    "layout=BIDSLayout(fmriprep_dir)"
   ]
  },
  {
   "cell_type": "code",
   "execution_count": 5,
   "metadata": {},
   "outputs": [
    {
     "name": "stdout",
     "output_type": "stream",
     "text": [
      "    onset  duration   trial_type\n",
      "0       0        26  white-noise\n",
      "1      28        26    sentences\n",
      "2      56        26        words\n",
      "3      84        26     reversed\n",
      "4     112        26  white-noise\n",
      "5     140        26        words\n",
      "6     168        26     reversed\n",
      "7     196        26    sentences\n",
      "8     224        26  white-noise\n",
      "9     252        26     reversed\n",
      "10    280        26    sentences\n",
      "11    308        26        words\n",
      "12    336        26  white-noise\n",
      "13    364        26    sentences\n",
      "14    392        26     reversed\n",
      "15    420        26        words\n",
      "16    448        26  white-noise\n",
      "17    476        26     reversed\n",
      "18    504        26        words\n",
      "19    532        26    sentences\n",
      "20    560        26  white-noise\n",
      "21    588        26        words\n",
      "22    616        26    sentences\n",
      "23    644        26     reversed\n"
     ]
    }
   ],
   "source": [
    "events=pd.read_table('../../Full-Dataset/task-speech_events.tsv')\n",
    "print(events)"
   ]
  },
  {
   "cell_type": "code",
   "execution_count": 8,
   "metadata": {},
   "outputs": [],
   "source": [
    "nifti_file_path=layout.get(subject='32',datatype='func',extension='.nii.gz',return_type=\"file\")\n",
    "img = nib.load(nifti_file_path[0])"
   ]
  },
  {
   "cell_type": "code",
   "execution_count": 11,
   "metadata": {},
   "outputs": [
    {
     "name": "stdout",
     "output_type": "stream",
     "text": [
      "[14, 15, 16, 17, 18, 19, 20, 21, 22, 23, 24, 25, 26, 98, 99, 100, 101, 102, 103, 104, 105, 106, 107, 108, 109, 110, 140, 141, 142, 143, 144, 145, 146, 147, 148, 149, 150, 151, 152, 182, 183, 184, 185, 186, 187, 188, 189, 190, 191, 192, 193, 194, 266, 267, 268, 269, 270, 271, 272, 273, 274, 275, 276, 277, 278, 308, 309, 310, 311, 312, 313, 314, 315, 316, 317, 318, 319, 320]\n",
      "(96, 96, 32, 78)\n"
     ]
    }
   ],
   "source": [
    "import pandas as pd\n",
    "import nibabel as nib\n",
    "\n",
    "def extract_fmri_data(tsv_path, img, condition='sentences', duration=13):\n",
    "    # Load TSV data into a DataFrame\n",
    "    df = pd.read_csv(tsv_path, delimiter='\\t')\n",
    "\n",
    "    # Extract time points for the specified condition\n",
    "    condition_time_points = df.loc[df['trial_type'] == condition, 'onset']\n",
    "\n",
    "    # Create a list of time points for each occurrence of the specified condition\n",
    "    condition_occurrences = []\n",
    "    for onset in condition_time_points:\n",
    "        condition_occurrences.extend(range(int(onset), int(onset) + duration))\n",
    "\n",
    "    # Extract corresponding time points from fMRI data\n",
    "    condition_fmri_data = img.get_fdata()[:, :, :, condition_occurrences]\n",
    "\n",
    "    return condition_occurrences, condition_fmri_data\n",
    "\n",
    "# Example usage\n",
    "tsv_path = 'my.tsv'\n",
    "nifti_img = nib.load(nifti_file_path[0])  # Replace with the actual path\n",
    "condition_occurrences, condition_fmri_data = extract_fmri_data(tsv_path, nifti_img)\n",
    "\n",
    "# Print or use the extracted fMRI data for the specified condition\n",
    "print(condition_occurrences)\n",
    "print(condition_fmri_data.shape)\n"
   ]
  },
  {
   "cell_type": "code",
   "execution_count": 16,
   "metadata": {},
   "outputs": [
    {
     "name": "stdout",
     "output_type": "stream",
     "text": [
      "Number of labels in the atlas: 39\n",
      "\n",
      "Number of Subjects in the Dataset: 1\n",
      "\n",
      "Subjects left to Compute 0\n"
     ]
    }
   ],
   "source": [
    "from nilearn import datasets, maskers, image, connectome\n",
    "from nilearn.input_data import NiftiMapsMasker\n",
    "from nilearn.connectome import ConnectivityMeasure\n",
    "from bids.layout import BIDSLayout\n",
    "import numpy as np\n",
    "\n",
    "def create_fc_matrices(sentences_type):\n",
    "    fmriprep_dir = '../../Full-Dataset'\n",
    "    tsv_path = 'my.tsv'\n",
    "    layout = BIDSLayout(fmriprep_dir)\n",
    "    msdl_atlas = datasets.fetch_atlas_msdl()\n",
    "\n",
    "    print(f'Number of labels in the atlas: {len(msdl_atlas.labels)}\\n')\n",
    "\n",
    "    fmri_files = layout.get(subject='01',datatype='func', extension='.nii.gz', return_type=\"file\")\n",
    "\n",
    "    print(f'Number of Subjects in the Dataset: {len(fmri_files)}\\n')\n",
    "\n",
    "    masker = maskers.NiftiMapsMasker(maps_img=msdl_atlas.maps, standardize='zscore_sample', verbose=0)\n",
    "    correlation_measure = connectome.ConnectivityMeasure(kind='correlation', standardize='zscore_sample')\n",
    "\n",
    "    subject_corr_data = []\n",
    "    time_series_data = []\n",
    "\n",
    "    for file in fmri_files:\n",
    "        fmri_data = image.load_img(file)\n",
    "        condition_occurrences, condition_fmri_data = extract_fmri_data(tsv_path, fmri_data)\n",
    "        # Extract time series for the entire run\n",
    "        time_series = masker.fit_transform(fmri_data) \n",
    "\n",
    "        # print(\"Shape of time_series:\", selected_time_series.shape)\n",
    "        # print(\"Maximum index in sentences_occurrences:\", max(sentences_occurrences))\n",
    "        \n",
    "        # Select only the time points corresponding to \"sentences_occurrences\"\n",
    "        # valid_indices = [idx for idx in sentences_occurrences if idx < time_series.shape[1]] \n",
    "        selected_time_series = time_series[condition_occurrences,:] \n",
    "        corr_matrix = correlation_measure.fit_transform([selected_time_series])[0]\n",
    "        time_series_data.append(selected_time_series)\n",
    "        subject_corr_data.append(corr_matrix)\n",
    "        print(f'Subjects left to Compute {len(fmri_files) - len(subject_corr_data)}')\n",
    "\n",
    "    return subject_corr_data, time_series_data\n",
    "\n",
    "# Assuming you already have sentences_occurrences from your previous step\n",
    "# Call the function with the specified time points\n",
    "subject_corr_data, time_series_data = create_fc_matrices('sentences')\n"
   ]
  },
  {
   "cell_type": "code",
   "execution_count": 153,
   "metadata": {},
   "outputs": [],
   "source": [
    "np.save('C:\\\\Users\\\\kuttysidtej\\\\Desktop\\\\mri-research\\\\source_data\\\\fc\\\\fc_matrices1',subject_corr_data)\n",
    "np.save(\"C:\\\\Users\\\\kuttysidtej\\\\Desktop\\\\mri-research\\\\source_data\\\\time_series1\",time_series_data)"
   ]
  },
  {
   "cell_type": "code",
   "execution_count": 154,
   "metadata": {},
   "outputs": [],
   "source": [
    "fc_matrices=np.load(\"C:\\\\Users\\\\kuttysidtej\\\\Desktop\\\\mri-research\\\\source_data\\\\fc\\\\fc_matrices1.npy\")"
   ]
  },
  {
   "cell_type": "code",
   "execution_count": 19,
   "metadata": {},
   "outputs": [],
   "source": [
    "fc_matrices=subject_corr_data"
   ]
  },
  {
   "cell_type": "code",
   "execution_count": 20,
   "metadata": {},
   "outputs": [],
   "source": [
    "msdl_atlas = datasets.fetch_atlas_msdl()\n",
    "msdl_labels = msdl_atlas.labels\n",
    "msdl_coords = msdl_atlas.region_coords"
   ]
  },
  {
   "cell_type": "code",
   "execution_count": 21,
   "metadata": {},
   "outputs": [
    {
     "data": {
      "text/plain": [
       "1"
      ]
     },
     "execution_count": 21,
     "metadata": {},
     "output_type": "execute_result"
    }
   ],
   "source": [
    "len(fc_matrices)"
   ]
  },
  {
   "cell_type": "code",
   "execution_count": 32,
   "metadata": {},
   "outputs": [],
   "source": [
    "def create_knn_graph(fc_matrices, k):\n",
    "    # Calculate group FC matrix by averaging individual FC matrices\n",
    "    group_fc_matrix_strength = np.mean(fc_matrices, axis=0)\n",
    "    print(f'Shape of mean fc corr (strength) {group_fc_matrix_strength.shape}')\n",
    "    print(group_fc_matrix_strength)\n",
    "\n",
    "    # Create k-NN graph\n",
    "    G = nx.Graph()\n",
    "    num_nodes = group_fc_matrix_strength.shape[0]\n",
    "\n",
    "    for i in range(num_nodes):\n",
    "        # Find the indices of the top k edges in terms of connectivity strength\n",
    "        top_k_indices = np.argsort(group_fc_matrix_strength[i, :])[-k:]\n",
    "\n",
    "        # Add edges to the graph\n",
    "        for j in top_k_indices:\n",
    "            if i != j:  # Avoid self-loops\n",
    "                G.add_edge(i, j, weight=500000000*group_fc_matrix_strength[i, j])\n",
    "    return G, group_fc_matrix_strength"
   ]
  },
  {
   "cell_type": "code",
   "execution_count": 33,
   "metadata": {},
   "outputs": [
    {
     "name": "stdout",
     "output_type": "stream",
     "text": [
      "Shape of mean fc corr (strength) (39, 39)\n",
      "[[ 1.          0.57717419  0.17748709 ...  0.00790014  0.50094252\n",
      "   0.36083764]\n",
      " [ 0.57717419  1.          0.28652722 ...  0.08415937  0.37792654\n",
      "   0.52490644]\n",
      " [ 0.17748709  0.28652722  1.         ...  0.56901415  0.03562165\n",
      "   0.16212403]\n",
      " ...\n",
      " [ 0.00790014  0.08415937  0.56901415 ...  1.         -0.2486613\n",
      "  -0.14567174]\n",
      " [ 0.50094252  0.37792654  0.03562165 ... -0.2486613   1.\n",
      "   0.40531234]\n",
      " [ 0.36083764  0.52490644  0.16212403 ... -0.14567174  0.40531234\n",
      "   1.        ]]\n"
     ]
    },
    {
     "data": {
      "image/png": "[encoded data removed]",
      "text/plain": [
       "<Figure size 640x480 with 1 Axes>"
      ]
     },
     "metadata": {},
     "output_type": "display_data"
    }
   ],
   "source": [
    "# Create the graph\n",
    "k=5\n",
    "G, group_fc_matrix_strength = create_knn_graph(fc_matrices, k)\n",
    "# Visualize the graph\n",
    "pos = nx.spring_layout(G)\n",
    "nx.draw_networkx(G, pos, with_labels=True, node_color='skyblue', edge_cmap=plt.cm.Blues, font_size=8)\n",
    "edge_labels = nx.get_edge_attributes(G, 'weight')\n",
    "nx.draw_networkx_edge_labels(G, pos, edge_labels=edge_labels, font_size=6)\n",
    "\n",
    "plt.show()"
   ]
  },
  {
   "cell_type": "code",
   "execution_count": 159,
   "metadata": {},
   "outputs": [
    {
     "name": "stdout",
     "output_type": "stream",
     "text": [
      "13\n"
     ]
    }
   ],
   "source": [
    "print(len(pos))"
   ]
  },
  {
   "cell_type": "code",
   "execution_count": 165,
   "metadata": {},
   "outputs": [],
   "source": [
    "adjacency_matrix = nx.adjacency_matrix(G).todense()\n",
    "labels = list(G.nodes)"
   ]
  },
  {
   "cell_type": "code",
   "execution_count": 35,
   "metadata": {},
   "outputs": [
    {
     "ename": "NameError",
     "evalue": "name 'labels' is not defined",
     "output_type": "error",
     "traceback": [
      "\u001b[1;31m---------------------------------------------------------------------------\u001b[0m",
      "\u001b[1;31mNameError\u001b[0m                                 Traceback (most recent call last)",
      "\u001b[1;32mc:\\Reuben's Code's\\PyTorch\\Schizophrenia\\Data-Prep\\Preprocessing\\sentences.ipynb Cell 16\u001b[0m line \u001b[0;36m6\n\u001b[0;32m      <a href='vscode-notebook-cell:/c%3A/Reuben%27s%20Code%27s/PyTorch/Schizophrenia/Data-Prep/Preprocessing/sentences.ipynb#X21sZmlsZQ%3D%3D?line=2'>3</a>\u001b[0m cax \u001b[39m=\u001b[39m ax\u001b[39m.\u001b[39mmatshow(fc_matrices[\u001b[39m0\u001b[39m], cmap\u001b[39m=\u001b[39m\u001b[39m'\u001b[39m\u001b[39mviridis\u001b[39m\u001b[39m'\u001b[39m)\n\u001b[0;32m      <a href='vscode-notebook-cell:/c%3A/Reuben%27s%20Code%27s/PyTorch/Schizophrenia/Data-Prep/Preprocessing/sentences.ipynb#X21sZmlsZQ%3D%3D?line=4'>5</a>\u001b[0m \u001b[39m# Add labels\u001b[39;00m\n\u001b[1;32m----> <a href='vscode-notebook-cell:/c%3A/Reuben%27s%20Code%27s/PyTorch/Schizophrenia/Data-Prep/Preprocessing/sentences.ipynb#X21sZmlsZQ%3D%3D?line=5'>6</a>\u001b[0m ax\u001b[39m.\u001b[39mset_xticks(np\u001b[39m.\u001b[39marange(\u001b[39mlen\u001b[39m(labels)))\n\u001b[0;32m      <a href='vscode-notebook-cell:/c%3A/Reuben%27s%20Code%27s/PyTorch/Schizophrenia/Data-Prep/Preprocessing/sentences.ipynb#X21sZmlsZQ%3D%3D?line=6'>7</a>\u001b[0m ax\u001b[39m.\u001b[39mset_yticks(np\u001b[39m.\u001b[39marange(\u001b[39mlen\u001b[39m(labels)))\n\u001b[0;32m      <a href='vscode-notebook-cell:/c%3A/Reuben%27s%20Code%27s/PyTorch/Schizophrenia/Data-Prep/Preprocessing/sentences.ipynb#X21sZmlsZQ%3D%3D?line=7'>8</a>\u001b[0m ax\u001b[39m.\u001b[39mset_xticklabels(labels)\n",
      "\u001b[1;31mNameError\u001b[0m: name 'labels' is not defined"
     ]
    },
    {
     "data": {
      "image/png": "[encoded data removed]",
      "text/plain": [
       "<Figure size 640x480 with 1 Axes>"
      ]
     },
     "metadata": {},
     "output_type": "display_data"
    }
   ],
   "source": [
    "# Visualize the adjacency matrix\n",
    "fig, ax = plt.subplots()\n",
    "cax = ax.matshow(fc_matrices[0], cmap='viridis')\n",
    "\n",
    "# Add labels\n",
    "ax.set_xticks(np.arange(len(labels)))\n",
    "ax.set_yticks(np.arange(len(labels)))\n",
    "ax.set_xticklabels(labels)\n",
    "ax.set_yticklabels(labels)\n",
    "\n",
    "# Display the colorbar\n",
    "fig.colorbar(cax)\n",
    "\n",
    "plt.show()"
   ]
  },
  {
   "cell_type": "code",
   "execution_count": 36,
   "metadata": {},
   "outputs": [
    {
     "name": "stdout",
     "output_type": "stream",
     "text": [
      "(39, 39)\n"
     ]
    }
   ],
   "source": [
    "print(fc_matrices[0].shape)"
   ]
  },
  {
   "cell_type": "code",
   "execution_count": 37,
   "metadata": {},
   "outputs": [
    {
     "name": "stdout",
     "output_type": "stream",
     "text": [
      "39\n"
     ]
    }
   ],
   "source": [
    "print(len(msdl_labels))"
   ]
  },
  {
   "cell_type": "code",
   "execution_count": null,
   "metadata": {},
   "outputs": [],
   "source": []
  }
 ],
 "metadata": {
  "kernelspec": {
   "display_name": "venv",
   "language": "python",
   "name": "python3"
  },
  "language_info": {
   "codemirror_mode": {
    "name": "ipython",
    "version": 3
   },
   "file_extension": ".py",
   "mimetype": "text/x-python",
   "name": "python",
   "nbconvert_exporter": "python",
   "pygments_lexer": "ipython3",
   "version": "3.10.10"
  }
 },
 "nbformat": 4,
 "nbformat_minor": 2
}
