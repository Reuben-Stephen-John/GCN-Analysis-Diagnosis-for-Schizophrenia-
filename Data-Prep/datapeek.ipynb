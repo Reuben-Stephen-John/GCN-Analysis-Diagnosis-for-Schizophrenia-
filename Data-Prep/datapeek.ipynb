{
 "cells": [
  {
   "cell_type": "code",
   "execution_count": 1,
   "metadata": {},
   "outputs": [],
   "source": [
    "import nibabel as nib\n",
    "import matplotlib.pyplot as plt \n",
    "import numpy as np\n",
    "\n",
    "from ipywidgets import interact, widgets"
   ]
  },
  {
   "cell_type": "code",
   "execution_count": 27,
   "metadata": {},
   "outputs": [],
   "source": [
    "nii_file_path = \"..\\Full-Dataset\\sub-01\\\\anat\\sub-01_T1w.nii.gz\"\n",
    "nii_image = nib.load(nii_file_path)\n",
    "image_data= nii_image.get_fdata()  "
   ]
  },
  {
   "cell_type": "code",
   "execution_count": 28,
   "metadata": {},
   "outputs": [],
   "source": [
    "def update_image(slice_number):\n",
    "    slice_array = image_data[:, :, slice_number]\n",
    "    plt.imshow(slice_array, cmap=\"gray\")\n",
    "    plt.title(\"Healthy Control Anat MRI (SUB-01)\")\n",
    "    plt.colorbar()\n",
    "\n",
    "    # Add the figure label to the bottom of the image\n",
    "    plt.text(0.5, -0.15, \"Figure 1.b\", transform=plt.gca().transAxes,\n",
    "             fontsize=12, ha='center')\n",
    "\n",
    "    plt.show()\n",
    "\n"
   ]
  },
  {
   "cell_type": "code",
   "execution_count": 29,
   "metadata": {},
   "outputs": [],
   "source": [
    "dimensions = image_data.shape\n",
    "num_channels = dimensions[-1] if len(dimensions) > 3 else 1"
   ]
  },
  {
   "cell_type": "code",
   "execution_count": 30,
   "metadata": {},
   "outputs": [],
   "source": [
    "slice_slider = widgets.IntSlider(\n",
    "    min=1,\n",
    "    max=dimensions[2] - 1,\n",
    "    step=1,\n",
    "    value=dimensions[2] - 1,\n",
    "    description=\"Slice\"\n",
    ")"
   ]
  },
  {
   "cell_type": "code",
   "execution_count": 31,
   "metadata": {},
   "outputs": [
    {
     "data": {
      "application/vnd.jupyter.widget-view+json": {
       "model_id": "36bc34247eaa41b6a482e525cc6708d0",
       "version_major": 2,
       "version_minor": 0
      },
      "text/plain": [
       "interactive(children=(IntSlider(value=179, description='Slice', max=179, min=1), Output()), _dom_classes=('wid…"
      ]
     },
     "metadata": {},
     "output_type": "display_data"
    },
    {
     "data": {
      "text/plain": [
       "<function __main__.update_image(slice_number)>"
      ]
     },
     "execution_count": 31,
     "metadata": {},
     "output_type": "execute_result"
    }
   ],
   "source": [
    "interact(update_image, slice_number=slice_slider)\n"
   ]
  },
  {
   "cell_type": "code",
   "execution_count": 32,
   "metadata": {},
   "outputs": [
    {
     "name": "stdout",
     "output_type": "stream",
     "text": [
      "(96, 96, 32, 341)\n"
     ]
    }
   ],
   "source": [
    "nii_file_path = \"..\\Full-Dataset\\sub-01\\\\func\\sub-01_task-speech_bold.nii.gz\"\n",
    "nii_image = nib.load(nii_file_path)\n",
    "image_data= nii_image.get_fdata()  \n",
    "dimensions = image_data.shape\n",
    "num_channels = dimensions[3] if len(dimensions) > 3 else 1\n",
    "print(dimensions)"
   ]
  },
  {
   "cell_type": "code",
   "execution_count": 33,
   "metadata": {},
   "outputs": [
    {
     "data": {
      "image/png": "[encoded data removed]",
      "text/plain": [
       "<Figure size 640x480 with 2 Axes>"
      ]
     },
     "metadata": {},
     "output_type": "display_data"
    }
   ],
   "source": [
    "slice_array = image_data[:, :, 2,152]\n",
    "plt.imshow(slice_array, cmap=\"gray\")\n",
    "plt.title(\"MRI Image\")\n",
    "plt.colorbar()\n",
    "plt.show()"
   ]
  },
  {
   "cell_type": "code",
   "execution_count": 20,
   "metadata": {},
   "outputs": [],
   "source": [
    "slice_slider = widgets.SelectionSlider(\n",
    "    options=list(range(dimensions[2])),\n",
    "    description=\"Slice\",\n",
    "    continous_update=True\n",
    ")\n",
    "channel_slider = widgets.SelectionSlider(\n",
    "    options=list(range(num_channels)),\n",
    "    description=\"Channel\",\n",
    "    continuous_update=True\n",
    ")"
   ]
  },
  {
   "cell_type": "code",
   "execution_count": 21,
   "metadata": {},
   "outputs": [],
   "source": [
    "def update_image_4D(channel_number,slice_number):\n",
    "    #channel_number=3\n",
    "    slice_array = image_data[:, :, slice_number,channel_number]\n",
    "    plt.imshow(slice_array, cmap=\"gray\")\n",
    "    plt.title(\"Healthy Control fMRI (SUB-12)\")\n",
    "    plt.colorbar()\n",
    "    plt.text(0.5, -0.15, \"Figure 1.a\", transform=plt.gca().transAxes,\n",
    "             fontsize=12, ha='center')\n",
    "    plt.show()"
   ]
  },
  {
   "cell_type": "code",
   "execution_count": 34,
   "metadata": {},
   "outputs": [],
   "source": [
    "def mri_view(file_path,label):\n",
    "    nii_file_path = file_path\n",
    "    nii_image = nib.load(nii_file_path)\n",
    "    image_data= nii_image.get_fdata()  \n",
    "    dimensions = image_data.shape\n",
    "    print(dimensions)\n",
    "    num_channels = dimensions[3] if len(dimensions) > 3 else 1\n",
    "    slice_slider = widgets.SelectionSlider(\n",
    "        options=list(range(dimensions[2])),\n",
    "        description=\"Slice\",\n",
    "        continous_update=True\n",
    "    )\n",
    "    channel_slider = widgets.SelectionSlider(\n",
    "        options=list(range(num_channels)),\n",
    "        description=\"Channel\",\n",
    "        continuous_update=True\n",
    "    )\n",
    "    def update_image_4D(channel_number,slice_number):\n",
    "        #channel_number=3\n",
    "        slice_array = image_data[:, :, slice_number,channel_number]\n",
    "        plt.imshow(slice_array, cmap=\"gray\")\n",
    "        plt.title(label)\n",
    "        plt.colorbar()\n",
    "        plt.show()\n",
    "    interact(update_image_4D,channel_number=channel_slider ,slice_number=slice_slider)"
   ]
  },
  {
   "cell_type": "code",
   "execution_count": 35,
   "metadata": {},
   "outputs": [
    {
     "name": "stdout",
     "output_type": "stream",
     "text": [
      "(96, 96, 32, 341)\n"
     ]
    },
    {
     "data": {
      "application/vnd.jupyter.widget-view+json": {
       "model_id": "af56bb80585b4861814f0c36b6eb73d3",
       "version_major": 2,
       "version_minor": 0
      },
      "text/plain": [
       "interactive(children=(SelectionSlider(description='Channel', options=(0, 1, 2, 3, 4, 5, 6, 7, 8, 9, 10, 11, 12…"
      ]
     },
     "metadata": {},
     "output_type": "display_data"
    }
   ],
   "source": [
    "mri_view(\"C:\\Reuben's Code's\\PyTorch\\Schizophrenia\\Full-Dataset\\sub-12\\\\func\\sub-12_task-speech_bold.nii.gz\",\"functional MRI Image\")"
   ]
  },
  {
   "cell_type": "code",
   "execution_count": 37,
   "metadata": {},
   "outputs": [
    {
     "name": "stdout",
     "output_type": "stream",
     "text": [
      "(91, 109, 91)\n"
     ]
    },
    {
     "data": {
      "application/vnd.jupyter.widget-view+json": {
       "model_id": "b5ec95faffab4b2b848443049acb356f",
       "version_major": 2,
       "version_minor": 0
      },
      "text/plain": [
       "interactive(children=(SelectionSlider(description='Channel', options=(0,), value=0), SelectionSlider(descripti…"
      ]
     },
     "metadata": {},
     "output_type": "display_data"
    }
   ],
   "source": [
    "mri_view(r\"C:\\Users\\reub\\Downloads\\resampled_data.nii\\resampled_data.nii\",\"resampled fMRI Image Sub-03\")"
   ]
  },
  {
   "cell_type": "code",
   "execution_count": 38,
   "metadata": {},
   "outputs": [
    {
     "name": "stdout",
     "output_type": "stream",
     "text": [
      "(96, 96, 32, 336)\n"
     ]
    },
    {
     "data": {
      "application/vnd.jupyter.widget-view+json": {
       "model_id": "0da0d45708b74cb3a1f6ddb39d643457",
       "version_major": 2,
       "version_minor": 0
      },
      "text/plain": [
       "interactive(children=(SelectionSlider(description='Channel', options=(0, 1, 2, 3, 4, 5, 6, 7, 8, 9, 10, 11, 12…"
      ]
     },
     "metadata": {},
     "output_type": "display_data"
    }
   ],
   "source": [
    "mri_view(r\"C:\\Users\\reub\\Downloads\\motion_corrected_data.nii\\motion_corrected_data.nii\",\"motion corrected fMRI Image Sub-03\")"
   ]
  },
  {
   "cell_type": "code",
   "execution_count": 40,
   "metadata": {},
   "outputs": [
    {
     "name": "stdout",
     "output_type": "stream",
     "text": [
      "(96, 96, 32, 341)\n"
     ]
    },
    {
     "data": {
      "application/vnd.jupyter.widget-view+json": {
       "model_id": "dbd965838d134c1bb27bb83292316874",
       "version_major": 2,
       "version_minor": 0
      },
      "text/plain": [
       "interactive(children=(SelectionSlider(description='Channel', options=(0, 1, 2, 3, 4, 5, 6, 7, 8, 9, 10, 11, 12…"
      ]
     },
     "metadata": {},
     "output_type": "display_data"
    }
   ],
   "source": [
    "mri_view(r\"C:\\Reuben's Code's\\PyTorch\\Schizophrenia\\Full-Dataset\\sub-03\\\\func\\sub-03_task-speech_bold.nii.gz\",\"uncorrected fMRI Image Sub-03\")"
   ]
  },
  {
   "cell_type": "code",
   "execution_count": null,
   "metadata": {},
   "outputs": [],
   "source": []
  }
 ],
 "metadata": {
  "kernelspec": {
   "display_name": "venv",
   "language": "python",
   "name": "python3"
  },
  "language_info": {
   "codemirror_mode": {
    "name": "ipython",
    "version": 3
   },
   "file_extension": ".py",
   "mimetype": "text/x-python",
   "name": "python",
   "nbconvert_exporter": "python",
   "pygments_lexer": "ipython3",
   "version": "3.10.10"
  }
 },
 "nbformat": 4,
 "nbformat_minor": 2
}
