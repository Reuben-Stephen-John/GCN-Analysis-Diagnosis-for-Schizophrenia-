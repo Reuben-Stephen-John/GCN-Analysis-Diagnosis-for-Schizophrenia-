{
 "cells": [
  {
   "cell_type": "code",
   "execution_count": 36,
   "metadata": {},
   "outputs": [],
   "source": [
    "from karateclub import NetMF,\n",
    "import torch\n",
    "from torch_geometric.data import Data\n",
    "import numpy as np\n",
    "import networkx as nx\n",
    "from tsfresh import select_features, extract_features,feature_extraction\n",
    "from tsfresh.utilities.dataframe_functions import impute"
   ]
  },
  {
   "cell_type": "code",
   "execution_count": 22,
   "metadata": {},
   "outputs": [],
   "source": [
    "def extract_tsfresh_features(x):\n",
    "    \"\"\"\n",
    "    For MRI data sets. Function used for node features extraction from node time series. The features to be computed\n",
    "    from tsfresh package are defined in functions_to_test dictionary\n",
    "    :param x: numpy array containing a time series\n",
    "    :return: a list of values of computed features\n",
    "    \"\"\"\n",
    "\n",
    "    functions_to_test = {\n",
    "        \"asof\": feature_extraction.feature_calculators.absolute_sum_of_changes,\n",
    "        # \"ae\": feature_extraction.feature_calculators.approximate_entropy,\n",
    "        \"bc\": feature_extraction.feature_calculators.benford_correlation,\n",
    "        \"c3\": feature_extraction.feature_calculators.c3,\n",
    "        \"cid_ce\": feature_extraction.feature_calculators.cid_ce,\n",
    "        \"cam\": feature_extraction.feature_calculators.count_above_mean,\n",
    "        \"cbm\": feature_extraction.feature_calculators.count_below_mean,\n",
    "        \"lsam\": feature_extraction.feature_calculators.longest_strike_above_mean,\n",
    "        \"var\": feature_extraction.feature_calculators.variance,\n",
    "        \"std\": feature_extraction.feature_calculators.standard_deviation,\n",
    "        \"skw\": feature_extraction.feature_calculators.skewness,\n",
    "        # \"sentr\": feature_extraction.feature_calculators.sample_entropy,\n",
    "        \"qua\": feature_extraction.feature_calculators.quantile,\n",
    "    }\n",
    "\n",
    "    computed_feature_list = list()\n",
    "\n",
    "    for key, function in functions_to_test.items():\n",
    "        # start = time.time()\n",
    "        for i in range(1):\n",
    "            if key == \"ae\":\n",
    "                computed_feature_list.append(np.float32(function(x, 10, 2)))\n",
    "            elif key == \"c3\":\n",
    "                computed_feature_list.append(np.float32(function(x, 7)))\n",
    "            elif key == \"cid_ce\":\n",
    "                computed_feature_list.append(np.float32(function(x, True)))\n",
    "            elif key == \"qua\":\n",
    "                computed_feature_list.append(np.float32(function(x, 0.25)))\n",
    "            else:\n",
    "                computed_feature_list.append(np.float32(function(x)))\n",
    "        # print(computed_feature_list)\n",
    "        # end = time.time()\n",
    "        # duration = end-start\n",
    "        # print(key, duration)\n",
    "    return computed_feature_list"
   ]
  },
  {
   "cell_type": "code",
   "execution_count": 23,
   "metadata": {},
   "outputs": [],
   "source": [
    "subject_time_series=np.load('../source_data/time_series/time_series.npy')"
   ]
  },
  {
   "cell_type": "code",
   "execution_count": 25,
   "metadata": {},
   "outputs": [
    {
     "data": {
      "text/plain": [
       "(341, 39)"
      ]
     },
     "execution_count": 25,
     "metadata": {},
     "output_type": "execute_result"
    }
   ],
   "source": [
    "subject_time_series[0,:,:].shape"
   ]
  },
  {
   "cell_type": "code",
   "execution_count": 26,
   "metadata": {},
   "outputs": [],
   "source": [
    "subject_t=subject_time_series[0,:,:]"
   ]
  },
  {
   "cell_type": "code",
   "execution_count": 29,
   "metadata": {},
   "outputs": [
    {
     "data": {
      "text/plain": [
       "(341,)"
      ]
     },
     "execution_count": 29,
     "metadata": {},
     "output_type": "execute_result"
    }
   ],
   "source": [
    "subject_t[:,1].shape"
   ]
  },
  {
   "cell_type": "code",
   "execution_count": 34,
   "metadata": {},
   "outputs": [],
   "source": [
    "def temporal_feature_extraction(subject_time_series):\n",
    "    temporal_features=[]\n",
    "    for node in range(len(subject_time_series[0,:])):\n",
    "        feature=extract_tsfresh_features(subject_time_series[:,node])\n",
    "        temporal_features.append(feature)\n",
    "    return np.array(temporal_features)"
   ]
  },
  {
   "cell_type": "code",
   "execution_count": 35,
   "metadata": {},
   "outputs": [
    {
     "data": {
      "text/plain": [
       "(39, 11)"
      ]
     },
     "execution_count": 35,
     "metadata": {},
     "output_type": "execute_result"
    }
   ],
   "source": [
    "temp=temporal_feature_extraction(subject_t)\n",
    "temp.shape"
   ]
  },
  {
   "cell_type": "code",
   "execution_count": 48,
   "metadata": {},
   "outputs": [],
   "source": [
    "import numpy as np\n",
    "\n",
    "# Load your data\n",
    "subject_fc_matrices = np.load('../source_data/fc/fc_matrices.npy')\n",
    "subject_time_series = np.load('../source_data/time_series/time_series.npy')\n",
    "\n",
    "# Ensure that the shapes of both arrays match\n",
    "assert subject_fc_matrices.shape[0] == subject_time_series.shape[0], \"Number of subjects should match.\"\n"
   ]
  },
  {
   "cell_type": "code",
   "execution_count": 46,
   "metadata": {},
   "outputs": [],
   "source": [
    "# Combine the arrays into a single array of tuples\n",
    "combined_data = [(fc_matrix, time_series) for fc_matrix, time_series in zip(subject_fc_matrices, subject_time_series)]"
   ]
  },
  {
   "cell_type": "code",
   "execution_count": 52,
   "metadata": {},
   "outputs": [
    {
     "data": {
      "text/plain": [
       "71"
      ]
     },
     "execution_count": 52,
     "metadata": {},
     "output_type": "execute_result"
    }
   ],
   "source": [
    "len(combined_data)"
   ]
  },
  {
   "cell_type": "code",
   "execution_count": 56,
   "metadata": {},
   "outputs": [
    {
     "name": "stdout",
     "output_type": "stream",
     "text": [
      "(39, 39)\n",
      "(341, 39)\n"
     ]
    }
   ],
   "source": [
    "# Accessing FC matrix and time series for an individual subject (e.g., subject at index 0)\n",
    "individual_subject_data = combined_data[0]\n",
    "fc_matrix_individual_subject, time_series_individual_subject = individual_subject_data\n",
    "print(np.array(fc_matrix_individual_subject).shape)\n",
    "print(np.array(time_series_individual_subject).shape)"
   ]
  },
  {
   "cell_type": "code",
   "execution_count": null,
   "metadata": {},
   "outputs": [],
   "source": [
    "combined_data = np.stack((subject_fc_matrices, subject_time_series), axis=-1)\n",
    "\n",
    "# Accessing FC matrix and time series for an individual subject (e.g., subject at index 0)\n",
    "individual_subject_data = combined_data[0]\n",
    "fc_matrix_individual_subject = individual_subject_data[..., 0]\n",
    "time_series_individual_subject = individual_subject_data[..., 1]"
   ]
  },
  {
   "cell_type": "code",
   "execution_count": 44,
   "metadata": {},
   "outputs": [
    {
     "name": "stdout",
     "output_type": "stream",
     "text": [
      "Number of Subjects 71\n",
      "Label 0: 25 subjects\n",
      "Label 1: 23 subjects\n",
      "Label 2: 23 subjects\n"
     ]
    }
   ],
   "source": [
    "subject_fc_matrices,subject_time_series, all_labels,num_classes=create_labels()"
   ]
  },
  {
   "cell_type": "code",
   "execution_count": 18,
   "metadata": {},
   "outputs": [
    {
     "data": {
      "text/plain": [
       "(71, 39, 11)"
      ]
     },
     "execution_count": 18,
     "metadata": {},
     "output_type": "execute_result"
    }
   ],
   "source": [
    "subject_time_series_features.shape"
   ]
  },
  {
   "cell_type": "code",
   "execution_count": 11,
   "metadata": {},
   "outputs": [
    {
     "data": {
      "text/plain": [
       "(341,)"
      ]
     },
     "execution_count": 11,
     "metadata": {},
     "output_type": "execute_result"
    }
   ],
   "source": [
    "subject_time_series[0,:,1].shape"
   ]
  },
  {
   "cell_type": "code",
   "execution_count": 13,
   "metadata": {},
   "outputs": [],
   "source": [
    "feature=extract_tsfresh_features(subject_time_series[0,:,1])"
   ]
  },
  {
   "cell_type": "code",
   "execution_count": 58,
   "metadata": {},
   "outputs": [
    {
     "data": {
      "text/plain": [
       "11"
      ]
     },
     "execution_count": 58,
     "metadata": {},
     "output_type": "execute_result"
    }
   ],
   "source": [
    "len(feature)"
   ]
  },
  {
   "cell_type": "code",
   "execution_count": 63,
   "metadata": {},
   "outputs": [],
   "source": [
    "def netmf_embedding(graph, dimensions=16, order=2):\n",
    "    model = NetMF(dimensions=dimensions, order=order,seed=21)\n",
    "    model.fit(graph)\n",
    "    return model.get_embedding()"
   ]
  },
  {
   "cell_type": "code",
   "execution_count": 64,
   "metadata": {},
   "outputs": [],
   "source": [
    "def create_data_object(sub_conn_matrix, sub_ROI_ts, label, dimensions, order, threshold=0.5):\n",
    "    adjacency_matrix = (sub_conn_matrix > threshold).astype(float)\n",
    "    graph = nx.from_numpy_matrix(adjacency_matrix)\n",
    "    netmf_embeddings = netmf_embedding(graph,dimensions, order)  # Replace this with your actual embedding logic\n",
    "    temporal_embeddings= temporal_feature_extraction(sub_ROI_ts)\n",
    "    # Extract node features from the embeddings\n",
    "    node_features = torch.tensor(np.concatenate((netmf_embeddings, temporal_embeddings), axis=1), dtype=torch.float32)\n",
    "    \n",
    "    edge_index = torch.tensor(np.array(adjacency_matrix.nonzero()), dtype=torch.long)\n",
    "    \n",
    "    # Create PyTorch Geometric Data object\n",
    "    data = Data(x=node_features, edge_index=edge_index, y=torch.tensor(label,dtype=torch.long))\n",
    "    return data"
   ]
  },
  {
   "cell_type": "code",
   "execution_count": 66,
   "metadata": {},
   "outputs": [],
   "source": [
    "# Load your data\n",
    "subject_fc_matrices = np.load('../source_data/fc/fc_matrices.npy')\n",
    "subject_time_series = np.load('../source_data/time_series/time_series.npy')\n",
    "\n",
    "data=create_data_object(subject_fc_matrices[1],subject_time_series[1],1,32,2)"
   ]
  },
  {
   "cell_type": "code",
   "execution_count": 67,
   "metadata": {},
   "outputs": [
    {
     "data": {
      "text/plain": [
       "Data(x=[39, 43], edge_index=[2, 264], y=1)"
      ]
     },
     "execution_count": 67,
     "metadata": {},
     "output_type": "execute_result"
    }
   ],
   "source": [
    "data"
   ]
  },
  {
   "cell_type": "code",
   "execution_count": null,
   "metadata": {},
   "outputs": [],
   "source": []
  }
 ],
 "metadata": {
  "kernelspec": {
   "display_name": "venv",
   "language": "python",
   "name": "python3"
  },
  "language_info": {
   "codemirror_mode": {
    "name": "ipython",
    "version": 3
   },
   "file_extension": ".py",
   "mimetype": "text/x-python",
   "name": "python",
   "nbconvert_exporter": "python",
   "pygments_lexer": "ipython3",
   "version": "3.10.10"
  }
 },
 "nbformat": 4,
 "nbformat_minor": 2
}
