{
 "cells": [
  {
   "cell_type": "code",
   "execution_count": 36,
   "metadata": {},
   "outputs": [],
   "source": [
    "import nibabel as nib\n",
    "import numpy as np\n",
    "from nilearn import datasets,maskers, plotting,image,connectome\n",
    "from bids.layout import BIDSLayout"
   ]
  },
  {
   "cell_type": "code",
   "execution_count": 37,
   "metadata": {},
   "outputs": [],
   "source": [
    "#base directory\n",
    "fmriprep_dir='../Full-Dataset'\n",
    "layout=BIDSLayout(fmriprep_dir)"
   ]
  },
  {
   "cell_type": "code",
   "execution_count": 38,
   "metadata": {},
   "outputs": [
    {
     "data": {
      "text/plain": [
       "71"
      ]
     },
     "execution_count": 38,
     "metadata": {},
     "output_type": "execute_result"
    }
   ],
   "source": [
    "len(layout.get_subjects())"
   ]
  },
  {
   "cell_type": "code",
   "execution_count": 39,
   "metadata": {},
   "outputs": [],
   "source": [
    "# Fetch the AAL atlas\n",
    "aal_atlas = datasets.fetch_atlas_aal('SPM12')\n",
    "\n",
    "# Load the AAL atlas image\n",
    "aal_img = nib.load(aal_atlas.maps)"
   ]
  },
  {
   "cell_type": "code",
   "execution_count": 58,
   "metadata": {},
   "outputs": [],
   "source": [
    "fmri_files=layout.get(subject='01',datatype='func',extension='.nii.gz',return_type=\"file\")\n",
    "# Assuming you have an fMRI image 'fmri_img', load it using nibabel\n",
    "fmri_img = nib.load(r'C:\\Users\\reub\\Downloads\\filtered_func_data.nii.gz')\n",
    "\n",
    "# Extract data from the fMRI image\n",
    "fmri_data = fmri_img.get_fdata()"
   ]
  },
  {
   "cell_type": "code",
   "execution_count": 59,
   "metadata": {},
   "outputs": [],
   "source": [
    "# Resample AAL atlas to match the fMRI image dimensions\n",
    "aal_img_resampled = image.resample_to_img(aal_img, fmri_img, interpolation='nearest')"
   ]
  },
  {
   "cell_type": "code",
   "execution_count": 60,
   "metadata": {},
   "outputs": [
    {
     "data": {
      "text/plain": [
       "(96, 96, 32)"
      ]
     },
     "execution_count": 60,
     "metadata": {},
     "output_type": "execute_result"
    }
   ],
   "source": [
    "aal_img_resampled.shape"
   ]
  },
  {
   "cell_type": "code",
   "execution_count": 61,
   "metadata": {},
   "outputs": [],
   "source": [
    "# Create an array to store the ROI data\n",
    "roi_data = np.zeros((len(aal_atlas.labels), fmri_data.shape[-1]))"
   ]
  },
  {
   "cell_type": "code",
   "execution_count": 65,
   "metadata": {},
   "outputs": [
    {
     "data": {
      "text/plain": [
       "(96, 96, 32)"
      ]
     },
     "execution_count": 65,
     "metadata": {},
     "output_type": "execute_result"
    }
   ],
   "source": [
    "roi_mask = (aal_img_resampled.get_fdata() == 2001)\n",
    "roi_mask.shape"
   ]
  },
  {
   "cell_type": "code",
   "execution_count": 69,
   "metadata": {},
   "outputs": [
    {
     "name": "stderr",
     "output_type": "stream",
     "text": [
      "C:\\Users\\reub\\AppData\\Local\\Temp\\ipykernel_12940\\2700845486.py:13: VisibleDeprecationWarning: Creating an ndarray from ragged nested sequences (which is a list-or-tuple of lists-or-tuples-or ndarrays with different lengths or shapes) is deprecated. If you meant to do this, you must specify 'dtype=object' when creating the ndarray.\n",
      "  roi_coordinates = np.array([np.where(aal_img_resampled.get_fdata() == int(aal_atlas.indices[i])) for i in range(len(aal_atlas.labels))])\n"
     ]
    }
   ],
   "source": [
    "# Iterate through each region in the AAL atlas\n",
    "for i, label in enumerate(aal_atlas.labels):\n",
    "    # Get the region ID corresponding to the label\n",
    "    region_id = int(aal_atlas.indices[i])\n",
    "\n",
    "    # Mask the fMRI data with the region's binary mask from the atlas\n",
    "    roi_mask = (aal_img_resampled.get_fdata() == region_id)\n",
    "    roi_data[i, :] = np.mean(fmri_data[roi_mask], axis=0)\n",
    "\n",
    "# Now, 'roi_data' contains the mean time series for each ROI\n",
    "\n",
    "# Optionally, you can also obtain the coordinates of each ROI\n",
    "roi_coordinates = np.array([np.where(aal_img_resampled.get_fdata() == int(aal_atlas.indices[i])) for i in range(len(aal_atlas.labels))])"
   ]
  },
  {
   "cell_type": "code",
   "execution_count": 70,
   "metadata": {},
   "outputs": [
    {
     "data": {
      "text/plain": [
       "(116, 336)"
      ]
     },
     "execution_count": 70,
     "metadata": {},
     "output_type": "execute_result"
    }
   ],
   "source": [
    "roi_data.shape"
   ]
  },
  {
   "cell_type": "code",
   "execution_count": null,
   "metadata": {},
   "outputs": [],
   "source": []
  }
 ],
 "metadata": {
  "kernelspec": {
   "display_name": "venv",
   "language": "python",
   "name": "python3"
  },
  "language_info": {
   "codemirror_mode": {
    "name": "ipython",
    "version": 3
   },
   "file_extension": ".py",
   "mimetype": "text/x-python",
   "name": "python",
   "nbconvert_exporter": "python",
   "pygments_lexer": "ipython3",
   "version": "3.10.10"
  }
 },
 "nbformat": 4,
 "nbformat_minor": 2
}
