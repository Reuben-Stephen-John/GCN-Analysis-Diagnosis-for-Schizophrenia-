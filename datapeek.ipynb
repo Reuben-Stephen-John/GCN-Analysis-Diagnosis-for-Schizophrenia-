{
 "cells": [
  {
   "cell_type": "code",
   "execution_count": 1,
   "metadata": {},
   "outputs": [],
   "source": [
    "import nibabel as nib\n",
    "import matplotlib.pyplot as plt \n",
    "import numpy as np\n",
    "from ipywidgets import interact, widgets"
   ]
  },
  {
   "cell_type": "code",
   "execution_count": 2,
   "metadata": {},
   "outputs": [],
   "source": [
    "nii_file_path = \"dataset\\HC\\sub-05_T1w.nii\"\n",
    "nii_image = nib.load(nii_file_path)\n",
    "image_data= nii_image.get_fdata()  "
   ]
  },
  {
   "cell_type": "code",
   "execution_count": 3,
   "metadata": {},
   "outputs": [],
   "source": [
    "def update_image(slice_number):\n",
    "    slice_array = image_data[:, :, slice_number]\n",
    "    plt.imshow(slice_array, cmap=\"gray\")\n",
    "    plt.title(\"Anat MRI\")\n",
    "    plt.colorbar()\n",
    "    plt.show()"
   ]
  },
  {
   "cell_type": "code",
   "execution_count": 4,
   "metadata": {},
   "outputs": [],
   "source": [
    "dimensions = image_data.shape\n",
    "num_channels = dimensions[-1] if len(dimensions) > 3 else 1"
   ]
  },
  {
   "cell_type": "code",
   "execution_count": 5,
   "metadata": {},
   "outputs": [],
   "source": [
    "slice_slider = widgets.IntSlider(\n",
    "    min=1,\n",
    "    max=dimensions[2] - 1,\n",
    "    step=1,\n",
    "    value=dimensions[2] - 1,\n",
    "    description=\"Slice\"\n",
    ")"
   ]
  },
  {
   "cell_type": "code",
   "execution_count": 6,
   "metadata": {},
   "outputs": [
    {
     "data": {
      "application/vnd.jupyter.widget-view+json": {
       "model_id": "751b509cea2044e59fa9bb79ee8d080d",
       "version_major": 2,
       "version_minor": 0
      },
      "text/plain": [
       "interactive(children=(IntSlider(value=179, description='Slice', max=179, min=1), Output()), _dom_classes=('wid…"
      ]
     },
     "metadata": {},
     "output_type": "display_data"
    },
    {
     "data": {
      "text/plain": [
       "<function __main__.update_image(slice_number)>"
      ]
     },
     "execution_count": 6,
     "metadata": {},
     "output_type": "execute_result"
    }
   ],
   "source": [
    "interact(update_image, slice_number=slice_slider)\n"
   ]
  },
  {
   "cell_type": "code",
   "execution_count": 7,
   "metadata": {},
   "outputs": [
    {
     "name": "stdout",
     "output_type": "stream",
     "text": [
      "(96, 96, 32, 341)\n"
     ]
    }
   ],
   "source": [
    "nii_file_path = \"dataset\\HC\\sub-05_task-speech_bold.nii\"\n",
    "nii_image = nib.load(nii_file_path)\n",
    "image_data= nii_image.get_fdata()  \n",
    "dimensions = image_data.shape\n",
    "num_channels = dimensions[3] if len(dimensions) > 3 else 1\n",
    "print(dimensions)"
   ]
  },
  {
   "cell_type": "code",
   "execution_count": 8,
   "metadata": {},
   "outputs": [
    {
     "data": {
      "image/png": "[encoded data removed]",
      "text/plain": [
       "<Figure size 640x480 with 2 Axes>"
      ]
     },
     "metadata": {},
     "output_type": "display_data"
    }
   ],
   "source": [
    "slice_array = image_data[:, :, 2,152]\n",
    "plt.imshow(slice_array, cmap=\"gray\")\n",
    "plt.title(\"MRI Image\")\n",
    "plt.colorbar()\n",
    "plt.show()"
   ]
  },
  {
   "cell_type": "code",
   "execution_count": 9,
   "metadata": {},
   "outputs": [],
   "source": [
    "slice_slider = widgets.SelectionSlider(\n",
    "    options=list(range(dimensions[2])),\n",
    "    description=\"Slice\",\n",
    "    continous_update=True\n",
    ")\n",
    "channel_slider = widgets.SelectionSlider(\n",
    "    options=list(range(num_channels)),\n",
    "    description=\"Channel\",\n",
    "    continuous_update=True\n",
    ")"
   ]
  },
  {
   "cell_type": "code",
   "execution_count": 10,
   "metadata": {},
   "outputs": [],
   "source": [
    "def update_image_4D(channel_number,slice_number):\n",
    "    #channel_number=3\n",
    "    slice_array = image_data[:, :, slice_number,channel_number]\n",
    "    plt.imshow(slice_array, cmap=\"gray\")\n",
    "    plt.title(\"MRI Image\")\n",
    "    plt.colorbar()\n",
    "    plt.show()"
   ]
  },
  {
   "cell_type": "code",
   "execution_count": 11,
   "metadata": {},
   "outputs": [
    {
     "data": {
      "application/vnd.jupyter.widget-view+json": {
       "model_id": "f088719e46ec47fb80ad723d56cd9924",
       "version_major": 2,
       "version_minor": 0
      },
      "text/plain": [
       "interactive(children=(SelectionSlider(description='Channel', options=(0, 1, 2, 3, 4, 5, 6, 7, 8, 9, 10, 11, 12…"
      ]
     },
     "metadata": {},
     "output_type": "display_data"
    },
    {
     "data": {
      "text/plain": [
       "<function __main__.update_image_4D(channel_number, slice_number)>"
      ]
     },
     "execution_count": 11,
     "metadata": {},
     "output_type": "execute_result"
    }
   ],
   "source": [
    "interact(update_image_4D,channel_number=channel_slider ,slice_number=slice_slider)\n"
   ]
  },
  {
   "cell_type": "code",
   "execution_count": 45,
   "metadata": {},
   "outputs": [],
   "source": [
    "def mri_view(file_path):\n",
    "    nii_file_path = file_path\n",
    "    nii_image = nib.load(nii_file_path)\n",
    "    image_data= nii_image.get_fdata()  \n",
    "    dimensions = image_data.shape\n",
    "    print(dimensions)\n",
    "    num_channels = dimensions[3] if len(dimensions) > 3 else 1\n",
    "    slice_slider = widgets.SelectionSlider(\n",
    "        options=list(range(dimensions[2])),\n",
    "        description=\"Slice\",\n",
    "        continous_update=True\n",
    "    )\n",
    "    channel_slider = widgets.SelectionSlider(\n",
    "        options=list(range(num_channels)),\n",
    "        description=\"Channel\",\n",
    "        continuous_update=True\n",
    "    )\n",
    "    def update_image_4D(channel_number,slice_number):\n",
    "        #channel_number=3\n",
    "        slice_array = image_data[:, :, slice_number,channel_number]\n",
    "        plt.imshow(slice_array, cmap=\"gray\")\n",
    "        plt.title(\"functional MRI Image\")\n",
    "        plt.colorbar()\n",
    "        plt.show()\n",
    "    interact(update_image_4D,channel_number=channel_slider ,slice_number=slice_slider)"
   ]
  },
  {
   "cell_type": "code",
   "execution_count": 48,
   "metadata": {},
   "outputs": [
    {
     "name": "stdout",
     "output_type": "stream",
     "text": [
      "(96, 96, 32, 341)\n"
     ]
    },
    {
     "data": {
      "application/vnd.jupyter.widget-view+json": {
       "model_id": "21b9a1e26e3c495aa9614631e98e2656",
       "version_major": 2,
       "version_minor": 0
      },
      "text/plain": [
       "interactive(children=(SelectionSlider(description='Channel', options=(0, 1, 2, 3, 4, 5, 6, 7, 8, 9, 10, 11, 12…"
      ]
     },
     "metadata": {},
     "output_type": "display_data"
    }
   ],
   "source": [
    "mri_view(\"dataset\\AVH-\\sub-40_task-speech_bold.nii\")"
   ]
  },
  {
   "cell_type": "code",
   "execution_count": 33,
   "metadata": {},
   "outputs": [
    {
     "name": "stdout",
     "output_type": "stream",
     "text": [
      "(96, 96, 32, 341)\n"
     ]
    },
    {
     "data": {
      "application/vnd.jupyter.widget-view+json": {
       "model_id": "65027da193934179ba433845a3385cd9",
       "version_major": 2,
       "version_minor": 0
      },
      "text/plain": [
       "interactive(children=(SelectionSlider(description='Channel', options=(0, 1, 2, 3, 4, 5, 6, 7, 8, 9, 10, 11, 12…"
      ]
     },
     "metadata": {},
     "output_type": "display_data"
    }
   ],
   "source": [
    "mri_view(\"dataset\\AVH-\\sub-29_task-speech_bold.nii\")"
   ]
  },
  {
   "cell_type": "code",
   "execution_count": null,
   "metadata": {},
   "outputs": [],
   "source": []
  }
 ],
 "metadata": {
  "kernelspec": {
   "display_name": "venv",
   "language": "python",
   "name": "python3"
  },
  "language_info": {
   "codemirror_mode": {
    "name": "ipython",
    "version": 3
   },
   "file_extension": ".py",
   "mimetype": "text/x-python",
   "name": "python",
   "nbconvert_exporter": "python",
   "pygments_lexer": "ipython3",
   "version": "3.10.10"
  }
 },
 "nbformat": 4,
 "nbformat_minor": 2
}
