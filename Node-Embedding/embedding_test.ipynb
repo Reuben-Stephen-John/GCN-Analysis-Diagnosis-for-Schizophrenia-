{
 "cells": [
  {
   "cell_type": "code",
   "execution_count": 1,
   "metadata": {},
   "outputs": [],
   "source": [
    "import numpy as np\n",
    "import networkx as nx\n",
    "from karateclub import NetMF\n",
    "import torch\n",
    "from torch_geometric.data import Data"
   ]
  },
  {
   "cell_type": "code",
   "execution_count": 2,
   "metadata": {},
   "outputs": [],
   "source": [
    "fc_matrices=np.load('../source_data/fc/fc_matrices.npy')"
   ]
  },
  {
   "cell_type": "code",
   "execution_count": 3,
   "metadata": {},
   "outputs": [],
   "source": [
    "connectivity_matrix=fc_matrices[0]"
   ]
  },
  {
   "cell_type": "code",
   "execution_count": 4,
   "metadata": {},
   "outputs": [],
   "source": [
    "threshold=0.5\n",
    "adjacency_matrix = (connectivity_matrix > threshold).astype(float)\n",
    "graph = nx.from_numpy_matrix(adjacency_matrix)"
   ]
  },
  {
   "cell_type": "code",
   "execution_count": 5,
   "metadata": {},
   "outputs": [],
   "source": [
    "# NetMF embedding logic using karate club module\n",
    "def netmf_embedding(graph, dimensions=16, order=2):\n",
    "    model = NetMF(dimensions=dimensions, order=order,seed=21)\n",
    "    model.fit(graph)\n",
    "    return model.get_embedding()"
   ]
  },
  {
   "cell_type": "code",
   "execution_count": 6,
   "metadata": {},
   "outputs": [],
   "source": [
    "netmf_embeddings = netmf_embedding(graph, dimensions=32, order=2)\n"
   ]
  },
  {
   "cell_type": "code",
   "execution_count": 7,
   "metadata": {},
   "outputs": [
    {
     "name": "stdout",
     "output_type": "stream",
     "text": [
      "(39, 32)\n"
     ]
    }
   ],
   "source": [
    "print(netmf_embeddings.shape)"
   ]
  },
  {
   "cell_type": "code",
   "execution_count": 8,
   "metadata": {},
   "outputs": [],
   "source": [
    "# Extract node features from the embeddings\n",
    "node_features = torch.tensor(netmf_embeddings, dtype=torch.float32)"
   ]
  },
  {
   "cell_type": "code",
   "execution_count": 10,
   "metadata": {},
   "outputs": [
    {
     "data": {
      "text/plain": [
       "tensor([[ 3.7035e-02,  3.2525e-01,  4.8248e-01,  ...,  3.3613e-03,\n",
       "          7.1995e-03,  2.9877e-03],\n",
       "        [ 4.2926e-02,  1.5945e-01,  4.0567e-01,  ...,  4.5217e-03,\n",
       "          5.8696e-03, -2.8741e-04],\n",
       "        [ 3.4563e-02,  2.6487e-01,  8.2015e-02,  ...,  3.0255e-03,\n",
       "         -2.1931e-04, -2.0832e-04],\n",
       "        ...,\n",
       "        [ 1.5258e-03,  1.6080e-02,  5.3199e-03,  ...,  1.1198e-02,\n",
       "         -1.4195e-04, -4.4505e-03],\n",
       "        [ 1.8902e-02,  2.8268e-01,  4.6883e-01,  ..., -2.3394e-03,\n",
       "         -5.1105e-03, -2.1431e-03],\n",
       "        [ 9.5227e-02,  8.6666e-02,  6.8740e-01,  ...,  1.0335e-04,\n",
       "          1.4637e-03, -2.2891e-03]])"
      ]
     },
     "execution_count": 10,
     "metadata": {},
     "output_type": "execute_result"
    }
   ],
   "source": [
    "node_features"
   ]
  },
  {
   "cell_type": "code",
   "execution_count": 9,
   "metadata": {},
   "outputs": [
    {
     "data": {
      "text/plain": [
       "array([[0., 1., 0., ..., 0., 1., 0.],\n",
       "       [1., 0., 0., ..., 0., 0., 1.],\n",
       "       [0., 0., 0., ..., 1., 0., 0.],\n",
       "       ...,\n",
       "       [0., 0., 1., ..., 0., 0., 0.],\n",
       "       [1., 0., 0., ..., 0., 0., 0.],\n",
       "       [0., 1., 0., ..., 0., 0., 0.]])"
      ]
     },
     "execution_count": 9,
     "metadata": {},
     "output_type": "execute_result"
    }
   ],
   "source": [
    "adjacency_matrix"
   ]
  },
  {
   "cell_type": "code",
   "execution_count": 12,
   "metadata": {},
   "outputs": [],
   "source": [
    "edge_index = torch.tensor(adjacency_matrix.nonzero(), dtype=torch.long)"
   ]
  },
  {
   "cell_type": "code",
   "execution_count": 13,
   "metadata": {},
   "outputs": [
    {
     "data": {
      "text/plain": [
       "tensor([[ 0,  0,  0,  0,  1,  1,  1,  1,  1,  1,  1,  2,  2,  2,  2,  2,  2,  2,\n",
       "          2,  4,  4,  4,  4,  4,  4,  5,  5,  5,  5,  5,  5,  5,  6,  8,  8,  8,\n",
       "          8,  8,  8,  9,  9,  9,  9,  9,  9, 10, 10, 10, 10, 10, 10, 10, 10, 10,\n",
       "         10, 11, 11, 11, 11, 13, 13, 13, 13, 13, 13, 13, 13, 13, 13, 13, 14, 14,\n",
       "         14, 15, 15, 15, 15, 15, 15, 15, 15, 15, 15, 15, 15, 16, 17, 17, 18, 18,\n",
       "         18, 18, 19, 19, 19, 19, 21, 21, 21, 22, 22, 22, 22, 22, 22, 22, 22, 22,\n",
       "         22, 22, 22, 22, 23, 23, 23, 23, 23, 23, 23, 24, 24, 24, 24, 24, 24, 24,\n",
       "         24, 24, 24, 25, 25, 25, 25, 25, 25, 25, 25, 25, 25, 25, 26, 26, 26, 26,\n",
       "         26, 26, 26, 26, 26, 26, 28, 28, 28, 28, 28, 28, 28, 28, 28, 28, 28, 29,\n",
       "         29, 29, 29, 30, 30, 30, 30, 30, 31, 31, 31, 31, 31, 31, 31, 32, 32, 32,\n",
       "         32, 32, 32, 32, 32, 32, 32, 32, 32, 32, 32, 33, 33, 33, 33, 34, 34, 34,\n",
       "         34, 34, 34, 34, 34, 34, 34, 34, 35, 35, 35, 36, 36, 36, 36, 36, 36, 37,\n",
       "         38, 38, 38, 38],\n",
       "        [ 1,  8, 15, 37,  0,  4,  8,  9, 26, 31, 38,  4, 13, 15, 18, 25, 26, 32,\n",
       "         36,  1,  2,  8, 13, 26, 31, 10, 22, 24, 25, 28, 34, 36, 21,  0,  1,  4,\n",
       "         29, 33, 38,  1, 15, 26, 30, 31, 38,  5, 13, 15, 22, 23, 24, 25, 28, 32,\n",
       "         34, 14, 19, 33, 35,  2,  4, 10, 22, 24, 26, 28, 31, 32, 34, 36, 11, 19,\n",
       "         35,  0,  2,  9, 10, 22, 24, 25, 26, 28, 29, 32, 34, 28, 18, 33,  2, 17,\n",
       "         32, 33, 11, 14, 21, 35,  6, 19, 30,  5, 10, 13, 15, 23, 24, 25, 26, 28,\n",
       "         31, 32, 34, 36, 10, 22, 24, 25, 28, 32, 34,  5, 10, 13, 15, 22, 23, 25,\n",
       "         28, 32, 34,  2,  5, 10, 15, 22, 23, 24, 28, 29, 32, 34,  1,  2,  4,  9,\n",
       "         13, 15, 22, 30, 31, 32,  5, 10, 13, 15, 16, 22, 23, 24, 25, 32, 34,  8,\n",
       "         15, 25, 32,  9, 21, 26, 31, 38,  1,  4,  9, 13, 22, 26, 30,  2, 10, 13,\n",
       "         15, 18, 22, 23, 24, 25, 26, 28, 29, 34, 36,  8, 11, 17, 18,  5, 10, 13,\n",
       "         15, 22, 23, 24, 25, 28, 32, 36, 11, 14, 19,  2,  5, 13, 22, 32, 34,  0,\n",
       "          1,  8,  9, 30]])"
      ]
     },
     "execution_count": 13,
     "metadata": {},
     "output_type": "execute_result"
    }
   ],
   "source": [
    "edge_index"
   ]
  },
  {
   "cell_type": "code",
   "execution_count": 14,
   "metadata": {},
   "outputs": [],
   "source": [
    "edge_index = torch.tensor(np.array(np.where(adjacency_matrix != 0)), dtype=torch.long)"
   ]
  },
  {
   "cell_type": "code",
   "execution_count": 15,
   "metadata": {},
   "outputs": [
    {
     "data": {
      "text/plain": [
       "tensor([[ 0,  0,  0,  0,  1,  1,  1,  1,  1,  1,  1,  2,  2,  2,  2,  2,  2,  2,\n",
       "          2,  4,  4,  4,  4,  4,  4,  5,  5,  5,  5,  5,  5,  5,  6,  8,  8,  8,\n",
       "          8,  8,  8,  9,  9,  9,  9,  9,  9, 10, 10, 10, 10, 10, 10, 10, 10, 10,\n",
       "         10, 11, 11, 11, 11, 13, 13, 13, 13, 13, 13, 13, 13, 13, 13, 13, 14, 14,\n",
       "         14, 15, 15, 15, 15, 15, 15, 15, 15, 15, 15, 15, 15, 16, 17, 17, 18, 18,\n",
       "         18, 18, 19, 19, 19, 19, 21, 21, 21, 22, 22, 22, 22, 22, 22, 22, 22, 22,\n",
       "         22, 22, 22, 22, 23, 23, 23, 23, 23, 23, 23, 24, 24, 24, 24, 24, 24, 24,\n",
       "         24, 24, 24, 25, 25, 25, 25, 25, 25, 25, 25, 25, 25, 25, 26, 26, 26, 26,\n",
       "         26, 26, 26, 26, 26, 26, 28, 28, 28, 28, 28, 28, 28, 28, 28, 28, 28, 29,\n",
       "         29, 29, 29, 30, 30, 30, 30, 30, 31, 31, 31, 31, 31, 31, 31, 32, 32, 32,\n",
       "         32, 32, 32, 32, 32, 32, 32, 32, 32, 32, 32, 33, 33, 33, 33, 34, 34, 34,\n",
       "         34, 34, 34, 34, 34, 34, 34, 34, 35, 35, 35, 36, 36, 36, 36, 36, 36, 37,\n",
       "         38, 38, 38, 38],\n",
       "        [ 1,  8, 15, 37,  0,  4,  8,  9, 26, 31, 38,  4, 13, 15, 18, 25, 26, 32,\n",
       "         36,  1,  2,  8, 13, 26, 31, 10, 22, 24, 25, 28, 34, 36, 21,  0,  1,  4,\n",
       "         29, 33, 38,  1, 15, 26, 30, 31, 38,  5, 13, 15, 22, 23, 24, 25, 28, 32,\n",
       "         34, 14, 19, 33, 35,  2,  4, 10, 22, 24, 26, 28, 31, 32, 34, 36, 11, 19,\n",
       "         35,  0,  2,  9, 10, 22, 24, 25, 26, 28, 29, 32, 34, 28, 18, 33,  2, 17,\n",
       "         32, 33, 11, 14, 21, 35,  6, 19, 30,  5, 10, 13, 15, 23, 24, 25, 26, 28,\n",
       "         31, 32, 34, 36, 10, 22, 24, 25, 28, 32, 34,  5, 10, 13, 15, 22, 23, 25,\n",
       "         28, 32, 34,  2,  5, 10, 15, 22, 23, 24, 28, 29, 32, 34,  1,  2,  4,  9,\n",
       "         13, 15, 22, 30, 31, 32,  5, 10, 13, 15, 16, 22, 23, 24, 25, 32, 34,  8,\n",
       "         15, 25, 32,  9, 21, 26, 31, 38,  1,  4,  9, 13, 22, 26, 30,  2, 10, 13,\n",
       "         15, 18, 22, 23, 24, 25, 26, 28, 29, 34, 36,  8, 11, 17, 18,  5, 10, 13,\n",
       "         15, 22, 23, 24, 25, 28, 32, 36, 11, 14, 19,  2,  5, 13, 22, 32, 34,  0,\n",
       "          1,  8,  9, 30]])"
      ]
     },
     "execution_count": 15,
     "metadata": {},
     "output_type": "execute_result"
    }
   ],
   "source": [
    "edge_index"
   ]
  },
  {
   "cell_type": "code",
   "execution_count": 48,
   "metadata": {},
   "outputs": [],
   "source": [
    "data = Data(x=node_features, edge_index=edge_index)"
   ]
  },
  {
   "cell_type": "code",
   "execution_count": 49,
   "metadata": {},
   "outputs": [
    {
     "name": "stdout",
     "output_type": "stream",
     "text": [
      "Data(x=[39, 32], edge_index=[2, 149])\n"
     ]
    }
   ],
   "source": [
    "print(data)"
   ]
  },
  {
   "cell_type": "code",
   "execution_count": null,
   "metadata": {},
   "outputs": [],
   "source": [
    "# Extract edge indices from the adjacency_matrix\n",
    "edge_indices = torch.tensor(np.transpose(np.nonzero(adjacency_matrix)), dtype=torch.long)\n",
    "\n",
    "# Create PyTorch Geometric Data object\n",
    "data = Data(x=node_features, edge_index=edge_indices.t().contiguous(), y=torch.tensor(labels))"
   ]
  }
 ],
 "metadata": {
  "kernelspec": {
   "display_name": "venv",
   "language": "python",
   "name": "python3"
  },
  "language_info": {
   "codemirror_mode": {
    "name": "ipython",
    "version": 3
   },
   "file_extension": ".py",
   "mimetype": "text/x-python",
   "name": "python",
   "nbconvert_exporter": "python",
   "pygments_lexer": "ipython3",
   "version": "3.10.10"
  }
 },
 "nbformat": 4,
 "nbformat_minor": 2
}
